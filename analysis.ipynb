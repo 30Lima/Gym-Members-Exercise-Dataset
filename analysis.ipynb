{
 "cells": [
  {
   "cell_type": "markdown",
   "id": "258e65ce",
   "metadata": {},
   "source": [
    "# Análise de dados - Queima de calorias na academia\n",
    "\n",
    "#### link do dataset: https://www.kaggle.com/datasets/valakhorasani/gym-members-exercise-dataset?resource=download"
   ]
  },
  {
   "cell_type": "code",
   "execution_count": null,
   "id": "222e1064",
   "metadata": {},
   "outputs": [],
   "source": [
    "#importando as lib necessárias\n",
    "import matplotlib as plt\n",
    "import pandas as pd\n",
    "import numpy as np\n",
    "import seaborn as sns\n",
    "\n",
    "df = pd.read_csv('/content/gym_members_exercise_tracking.csv')"
   ]
  },
  {
   "cell_type": "code",
   "execution_count": null,
   "id": "77a74cad",
   "metadata": {},
   "outputs": [],
   "source": [
    "# Analisando as primeiras linhas do dataset\n",
    "print(\"Primeiras linhas do dataset:\")\n",
    "print(df.head())"
   ]
  },
  {
   "cell_type": "code",
   "execution_count": null,
   "id": "c7bb88b4",
   "metadata": {},
   "outputs": [],
   "source": [
    "# Verificando a estrutura do dataset\n",
    "print(\"\\nInformações sobre o dataset:\")\n",
    "print(df.info())"
   ]
  }
 ],
 "metadata": {
  "kernelspec": {
   "display_name": "base",
   "language": "python",
   "name": "python3"
  },
  "language_info": {
   "codemirror_mode": {
    "name": "ipython",
    "version": 3
   },
   "file_extension": ".py",
   "mimetype": "text/x-python",
   "name": "python",
   "nbconvert_exporter": "python",
   "pygments_lexer": "ipython3",
   "version": "3.13.5"
  }
 },
 "nbformat": 4,
 "nbformat_minor": 5
}
