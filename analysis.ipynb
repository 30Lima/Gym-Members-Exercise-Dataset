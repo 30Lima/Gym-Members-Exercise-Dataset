{
 "cells": [
  {
   "cell_type": "markdown",
   "id": "258e65ce",
   "metadata": {},
   "source": [
    "# Análise de dados - Queima de calorias na academia\n",
    "\n",
    "#### link do dataset: https://www.kaggle.com/datasets/valakhorasani/gym-members-exercise-dataset?resource=download"
   ]
  },
  {
   "cell_type": "code",
   "execution_count": null,
   "id": "222e1064",
   "metadata": {},
   "outputs": [],
   "source": [
    "#importando as lib necessárias\n",
    "import matplotlib as plt\n",
    "import pandas as pd\n",
    "import numpy as np\n",
    "import seaborn as sns\n",
    "\n",
    "df = pd.read_csv('/content/gym_members_exercise_tracking.csv')"
   ]
  },
  {
   "cell_type": "code",
   "execution_count": null,
   "id": "77a74cad",
   "metadata": {},
   "outputs": [],
   "source": [
    "# Analisando as primeiras linhas do dataset\n",
    "print(\"Primeiras linhas do dataset:\")\n",
    "print(df.head())"
   ]
  },
  {
   "cell_type": "code",
   "execution_count": null,
   "id": "c7bb88b4",
   "metadata": {},
   "outputs": [],
   "source": [
    "# Verificando a estrutura do dataset\n",
    "print(\"\\nInformações sobre o dataset:\")\n",
    "print(df.info())"
   ]
  },
  {
   "cell_type": "code",
   "execution_count": null,
   "id": "a8ed29c9",
   "metadata": {},
   "outputs": [],
   "source": [
    "# Resumo estatístico para variáveis numéricas\n",
    "print(\"\\nResumo estatístico das variáveis numéricas:\")\n",
    "print(df.describe())"
   ]
  },
  {
   "cell_type": "code",
   "execution_count": null,
   "id": "c731b931",
   "metadata": {},
   "outputs": [],
   "source": [
    "# Visualizar os tipos de dados das colunas\n",
    "print(\"\\nTipos de dados das colunas:\")\n",
    "print(df.dtypes)"
   ]
  },
  {
   "cell_type": "code",
   "execution_count": null,
   "id": "516fae3e",
   "metadata": {},
   "outputs": [],
   "source": [
    "# Contar o número de linhas e colunas\n",
    "num_linhas, num_colunas = df.shape\n",
    "print(f\"\\nO dataset contém {num_linhas} linhas e {num_colunas} colunas.\")     "
   ]
  },
  {
   "cell_type": "code",
   "execution_count": null,
   "id": "21e4b20d",
   "metadata": {},
   "outputs": [],
   "source": [
    "# Verificar se há dados faltantes\n",
    "print(\"Verificando dados faltantes:\")\n",
    "print(df.isnull().sum())"
   ]
  },
  {
   "cell_type": "markdown",
   "id": "2d1af712",
   "metadata": {},
   "source": [
    "OBS.: Após a análise de dados faltantes, foi possível verificar que não há nenhum dado faltante no dataset escolhido. Então, não é necessário tratá-los.\n",
    "\n",
    "QUESTÃO A SER RESPONDIDA: Com base no gênero da pessoa, a queima de calorias tem variações ou são relativamente parecidas quando ambos estão na academia?\n",
    "\n",
    "Após a análise inicial do dataset e também a definição da questão a ser respondida, decidimos realizar um gráfico de dispersão"
   ]
  },
  {
   "cell_type": "code",
   "execution_count": null,
   "id": "a5e26d23",
   "metadata": {},
   "outputs": [],
   "source": [
    "# Gráficos de dispersão\n",
    "plt.figure(figsize=(10, 6))\n",
    "sns.scatterplot(data=df, x='Age', y='Calories_Burned', hue='Gender')\n",
    "plt.title('Calorias queimada em relação à idade')\n",
    "plt.xlabel('Idade')\n",
    "plt.ylabel('Calorias queimada')\n",
    "plt.show()"
   ]
  },
  {
   "cell_type": "markdown",
   "id": "6aafad7d",
   "metadata": {},
   "source": [
    "Com base no gráfico de dispersão, podemos definir que, entre 1400 e 500 calorias, homens e mulheres ficam no mesmo patamar quando estão realizando algum treino na academia.\n",
    "\n",
    "Por mais que no gráfico tenhamos uma quantidade relativa de pessoas do gênero masculino, percebemos também que as mulheres entre 20 e 60 anos queimam menos calorias do que homens da mesma idade.\n",
    "\n",
    "Um fator interessante é que este gráfico surpreende bastante, pois, achaei que as mulheres não queimavam tantas calorias na academia em relação aos homens, mas, na verdade, os dados ficam \"acirrados\".\n",
    "\n",
    "Sinceramente, não acho que há algum outlier no gráfico, porque os únicos dados distantes estão após 1650 (aproximadamente).\n",
    "\n",
    "Resposta à pergunta: A queima de calorias quando um homem ou mulher está na academia é relativamente parecida, conforme mostrado no gráfico acima."
   ]
  }
 ],
 "metadata": {
  "kernelspec": {
   "display_name": "base",
   "language": "python",
   "name": "python3"
  },
  "language_info": {
   "codemirror_mode": {
    "name": "ipython",
    "version": 3
   },
   "file_extension": ".py",
   "mimetype": "text/x-python",
   "name": "python",
   "nbconvert_exporter": "python",
   "pygments_lexer": "ipython3",
   "version": "3.13.5"
  }
 },
 "nbformat": 4,
 "nbformat_minor": 5
}
